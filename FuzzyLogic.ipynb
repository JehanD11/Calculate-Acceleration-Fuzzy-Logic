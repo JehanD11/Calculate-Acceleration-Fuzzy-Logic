{
 "cells": [
  {
   "cell_type": "markdown",
   "metadata": {},
   "source": [
    "# Import necessary libraries"
   ]
  },
  {
   "cell_type": "code",
   "execution_count": 9,
   "metadata": {},
   "outputs": [],
   "source": [
    "import numpy as np\n",
    "import skfuzzy as fuzz\n",
    "from skfuzzy import control as ctrl"
   ]
  },
  {
   "cell_type": "markdown",
   "metadata": {},
   "source": [
    "# Create Antecedent and Consequent objects\n"
   ]
  },
  {
   "cell_type": "code",
   "execution_count": 10,
   "metadata": {},
   "outputs": [],
   "source": [
    "speed = ctrl.Antecedent(np.arange(0, 130, 1), 'speed')\n",
    "distance = ctrl.Antecedent(np.arange(0, 200, 1), 'distance')\n",
    "acceleration = ctrl.Consequent(np.arange(0, 1, 0.01), 'acceleration')"
   ]
  },
  {
   "cell_type": "markdown",
   "metadata": {},
   "source": [
    "# Define membership functions\n"
   ]
  },
  {
   "cell_type": "code",
   "execution_count": 11,
   "metadata": {},
   "outputs": [],
   "source": [
    "speed['low'] = fuzz.trimf(speed.universe, [0, 30, 60])\n",
    "speed['medium'] = fuzz.trimf(speed.universe, [40, 70, 100])\n",
    "speed['high'] = fuzz.trimf(speed.universe, [80, 110, 130])\n",
    "\n",
    "distance['close'] = fuzz.trimf(distance.universe, [0, 50, 100])\n",
    "distance['medium'] = fuzz.trimf(distance.universe, [50, 100, 150])\n",
    "distance['far'] = fuzz.trimf(distance.universe, [100, 150, 200])\n",
    "\n",
    "acceleration['low'] = fuzz.trimf(acceleration.universe, [0, 0.3, 0.6])\n",
    "acceleration['medium'] = fuzz.trimf(acceleration.universe, [0.4, 0.5, 0.7])\n",
    "acceleration['high'] = fuzz.trimf(acceleration.universe, [0.6, 0.8, 1.0])\n"
   ]
  },
  {
   "cell_type": "markdown",
   "metadata": {},
   "source": [
    "# Define rules\n"
   ]
  },
  {
   "cell_type": "code",
   "execution_count": 12,
   "metadata": {},
   "outputs": [],
   "source": [
    "rule1 = ctrl.Rule(speed['low'] & distance['close'], acceleration['high'])\n",
    "rule2 = ctrl.Rule(speed['medium'] & distance['medium'], acceleration['medium'])\n",
    "rule3 = ctrl.Rule(speed['high'] & distance['far'], acceleration['low'])"
   ]
  },
  {
   "cell_type": "markdown",
   "metadata": {},
   "source": [
    "# Create control system\n"
   ]
  },
  {
   "cell_type": "code",
   "execution_count": 13,
   "metadata": {},
   "outputs": [],
   "source": [
    "acceleration_ctrl = ctrl.ControlSystem([rule1, rule2, rule3])\n",
    "acceleration_simulation = ctrl.ControlSystemSimulation(acceleration_ctrl)"
   ]
  },
  {
   "cell_type": "markdown",
   "metadata": {},
   "source": [
    "# Input values\n"
   ]
  },
  {
   "cell_type": "code",
   "execution_count": 14,
   "metadata": {},
   "outputs": [],
   "source": [
    "acceleration_simulation.input['speed'] = 70\n",
    "acceleration_simulation.input['distance'] = 120"
   ]
  },
  {
   "cell_type": "markdown",
   "metadata": {},
   "source": [
    "# Compute acceleration\n"
   ]
  },
  {
   "cell_type": "code",
   "execution_count": 15,
   "metadata": {},
   "outputs": [],
   "source": [
    "acceleration_simulation.compute()"
   ]
  },
  {
   "cell_type": "markdown",
   "metadata": {},
   "source": [
    "# Output\n"
   ]
  },
  {
   "cell_type": "code",
   "execution_count": 16,
   "metadata": {},
   "outputs": [
    {
     "name": "stdout",
     "output_type": "stream",
     "text": [
      "0.537142857142857\n"
     ]
    }
   ],
   "source": [
    "print(acceleration_simulation.output['acceleration'])"
   ]
  }
 ],
 "metadata": {
  "kernelspec": {
   "display_name": "DMDW",
   "language": "python",
   "name": "python3"
  },
  "language_info": {
   "codemirror_mode": {
    "name": "ipython",
    "version": 3
   },
   "file_extension": ".py",
   "mimetype": "text/x-python",
   "name": "python",
   "nbconvert_exporter": "python",
   "pygments_lexer": "ipython3",
   "version": "3.11.0"
  }
 },
 "nbformat": 4,
 "nbformat_minor": 2
}
